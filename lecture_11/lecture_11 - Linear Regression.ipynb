{
 "cells": [
  {
   "attachments": {},
   "cell_type": "markdown",
   "metadata": {},
   "source": [
    "# <span style=\"color:darkblue\"> Lecture 11: Application 1 - Linear Regression </span>\n",
    "\n",
    "<font size = \"5\">\n",
    "\n",
    "We will fit statistical models to data\n",
    "\n",
    "- I will give an intro with minimal stats background\n",
    "- See the optional lecture file for advanced users\n",
    "\n",
    "The primary goal is to practice previous commands"
   ]
  },
  {
   "attachments": {},
   "cell_type": "markdown",
   "metadata": {},
   "source": [
    "# <span style=\"color:darkblue\"> I. Import Libraries </span>\n"
   ]
  },
  {
   "cell_type": "code",
   "execution_count": 1,
   "metadata": {},
   "outputs": [],
   "source": [
    "# The \"pandas\" library is used for processing datasets\n",
    "# The \"numpy\" is for numeric observations and random numbers\n",
    "# The \"matplotlib.pyplot\" library is for creating graphs\n",
    "\n",
    "import pandas as pd\n",
    "import numpy as np\n",
    "import matplotlib.pyplot as plt\n"
   ]
  },
  {
   "attachments": {},
   "cell_type": "markdown",
   "metadata": {},
   "source": [
    "<font size = \"5\">\n",
    "\n",
    "Install the \"statsmodels\" library\n",
    "\n",
    "```conda install statsmodels```\n",
    "\n",
    "- In Windows, you can do this by opening the program  <br> \"anaconda\n",
    "prompt\" and typing the above command.\n",
    "- In Mac, you can open your terminal and <br>\n",
    "type the above command"
   ]
  },
  {
   "cell_type": "code",
   "execution_count": 2,
   "metadata": {},
   "outputs": [],
   "source": [
    "# We will \"alias\" two sublibraries in \"statsmodels\"\n",
    "# \"statsmodels.formula.api\" contains functions to estimate models\n",
    "# \"statsmodels.api\" contains general-use statistical options\n",
    "\n",
    "import statsmodels.api as sm\n",
    "import statsmodels.formula.api as smf\n"
   ]
  },
  {
   "attachments": {},
   "cell_type": "markdown",
   "metadata": {},
   "source": [
    "# <span style=\"color:darkblue\"> II. Generate simulated Data </span>\n",
    "\n",
    "<font size = \"5\">\n",
    "\n",
    "Create an empty dataset"
   ]
  },
  {
   "cell_type": "code",
   "execution_count": 3,
   "metadata": {},
   "outputs": [],
   "source": [
    "dataset = pd.DataFrame()"
   ]
  },
  {
   "attachments": {},
   "cell_type": "markdown",
   "metadata": {},
   "source": [
    "<font size = \"5\">\n",
    "\n",
    "Create two random variables of size ($n = 50$)"
   ]
  },
  {
   "cell_type": "code",
   "execution_count": 4,
   "metadata": {},
   "outputs": [],
   "source": [
    "n = 50\n",
    "np.random.seed(42)\n",
    "dataset[\"x\"] = np.random.normal(loc = 0,scale = 1, size = n)\n",
    "dataset[\"e\"] = np.random.normal(loc = 0,scale = 1, size = n)"
   ]
  },
  {
   "attachments": {},
   "cell_type": "markdown",
   "metadata": {},
   "source": [
    "<font size = \"5\">\n",
    "\n",
    "Create data from the linear model\n",
    "\n",
    "$ y = b_0 + b_1 x + e, \\qquad b_0 = 1, b_1 = 2.$"
   ]
  },
  {
   "cell_type": "code",
   "execution_count": 5,
   "metadata": {},
   "outputs": [],
   "source": [
    "# The number b0 is known as the \"intercept\"\n",
    "# The number b1 is known as the \"slope\"\n",
    "\n",
    "b0 = 1\n",
    "b1 = 2\n",
    "\n",
    "# We can compute formulas directly over dataset columns\n",
    "dataset[\"y\"] = b0 + b1 * dataset[\"x\"] + dataset[\"e\"]"
   ]
  },
  {
   "cell_type": "code",
   "execution_count": 6,
   "metadata": {},
   "outputs": [
    {
     "data": {
      "text/plain": [
       "0     2.317512\n",
       "1     0.338389\n",
       "2     1.618455\n",
       "3     4.657736\n",
       "4     1.562693\n",
       "5     1.463006\n",
       "6     3.319208\n",
       "7     2.225657\n",
       "8     0.392315\n",
       "9     3.060665\n",
       "10   -0.406010\n",
       "11   -0.117118\n",
       "12    0.377590\n",
       "13   -4.022767\n",
       "14   -1.637310\n",
       "15    1.231665\n",
       "16   -1.097672\n",
       "17    2.632028\n",
       "18   -0.454412\n",
       "19   -2.469727\n",
       "20    4.292693\n",
       "21    2.086484\n",
       "22    1.099230\n",
       "23   -0.284853\n",
       "24   -2.708511\n",
       "25    2.043748\n",
       "26   -1.214940\n",
       "27    1.452389\n",
       "28   -0.109517\n",
       "29   -1.570956\n",
       "30   -0.423085\n",
       "31    5.061669\n",
       "32    2.450900\n",
       "33   -1.633692\n",
       "34    1.836596\n",
       "35   -1.943444\n",
       "36    2.333129\n",
       "37   -2.590589\n",
       "38   -2.186132\n",
       "39    1.906990\n",
       "40    2.574011\n",
       "41    2.311382\n",
       "42    0.066650\n",
       "43    0.070130\n",
       "44   -2.349152\n",
       "45   -1.903203\n",
       "46    0.374843\n",
       "47    3.375300\n",
       "48    1.692350\n",
       "49   -2.760667\n",
       "Name: y, dtype: float64"
      ]
     },
     "execution_count": 6,
     "metadata": {},
     "output_type": "execute_result"
    }
   ],
   "source": [
    "dataset['y']"
   ]
  },
  {
   "attachments": {},
   "cell_type": "markdown",
   "metadata": {},
   "source": [
    "<font size = \"5\">\n",
    "\n",
    "Compute the theoretically best fit line\n",
    "\n",
    "$ p = b_0 + b_1 x$"
   ]
  },
  {
   "cell_type": "code",
   "execution_count": 7,
   "metadata": {},
   "outputs": [],
   "source": [
    "dataset[\"p\"] = b0 + b1*dataset[\"x\"]"
   ]
  },
  {
   "attachments": {},
   "cell_type": "markdown",
   "metadata": {},
   "source": [
    "<font size = \"5\">\n",
    "\n",
    "Plot the data"
   ]
  },
  {
   "cell_type": "code",
   "execution_count": 8,
   "metadata": {},
   "outputs": [
    {
     "data": {
      "image/png": "[encoded data removed]",
      "text/plain": [
       "<Figure size 640x480 with 1 Axes>"
      ]
     },
     "metadata": {},
     "output_type": "display_data"
    }
   ],
   "source": [
    "plt.scatter(x = dataset[\"x\"], y = dataset[\"y\"])\n",
    "plt.plot(dataset[\"x\"],dataset[\"p\"], color = 'green')\n",
    "\n",
    "plt.xlabel(\"X Variable\")\n",
    "plt.ylabel(\"Y Variable\")\n",
    "plt.legend(labels = [\"Data points\", \"Best fit line\"])\n",
    "plt.show()\n"
   ]
  },
  {
   "attachments": {},
   "cell_type": "markdown",
   "metadata": {},
   "source": [
    "<font size = \"5\" >\n",
    "\n",
    "Try it yourself\n",
    "\n",
    "- Create a new dataset called $\\quad$```subset_above2``` \n",
    "- Subset records with $y \\ge 2$ using $\\quad$```.query()```\n",
    "- Count the original rows $\\quad$ ```len(dataset)```\n",
    "- Count the subsetted rows $\\quad$ ```len(subset_above2)```\n",
    "- Compute the proportion of subsetted observations\n"
   ]
  },
  {
   "cell_type": "code",
   "execution_count": 22,
   "metadata": {},
   "outputs": [
    {
     "name": "stdout",
     "output_type": "stream",
     "text": [
      "50\n",
      "15\n",
      "0.3\n"
     ]
    }
   ],
   "source": [
    "# Write your own code here\n",
    "\n",
    "subset_above2 = dataset.query(\"y>=2\")\n",
    "print(len(dataset))\n",
    "print(len(subset_above2))\n",
    "print(len(subset_above2)/len(dataset))\n"
   ]
  },
  {
   "attachments": {},
   "cell_type": "markdown",
   "metadata": {},
   "source": [
    "<font size = \"5\">\n",
    "\n",
    "Try it yourself!\n",
    "\n",
    "- Store the sample mean of $y$ as $\\quad$ ```ybar```\n",
    "- Compute the standard deviation of $y$ $\\quad$ ```stdv_sample```\n",
    "- Use ```.query()``` to subset observations that satisfy\n",
    "\n",
    "$ \\qquad abs\\left(y - ybar \\right) \\le stdv\\_sample $\n",
    "\n",
    "$\\quad$ HINT: Use ```.mean()```,$\\text{ }$ ```.std()``` <br>\n",
    "$\\quad$ HINT: Use the globals  $\\ $ ```@xbar```,$\\text{ }$ ```@stdv_sample```"
   ]
  },
  {
   "cell_type": "code",
   "execution_count": 27,
   "metadata": {},
   "outputs": [
    {
     "name": "stdout",
     "output_type": "stream",
     "text": [
      "           x         e         y         p\n",
      "0   0.496714  0.324084  2.317512  1.993428\n",
      "1  -0.138264 -0.385082  0.338389  0.723471\n",
      "2   0.647689 -0.676922  1.618455  2.295377\n",
      "4  -0.234153  1.031000  1.562693  0.531693\n",
      "5  -0.234137  0.931280  1.463006  0.531726\n",
      "7   0.767435 -0.309212  2.225657  2.534869\n",
      "8  -0.469474  0.331263  0.392315  0.061051\n",
      "10 -0.463418 -0.479174 -0.406010  0.073165\n",
      "11 -0.465730 -0.185659 -0.117118  0.068540\n",
      "12  0.241962 -1.106335  0.377590  1.483925\n",
      "15 -0.562288  1.356240  1.231665 -0.124575\n",
      "16 -1.012831 -0.072010 -1.097672 -1.025662\n",
      "17  0.314247  1.003533  2.632028  1.628495\n",
      "18 -0.908024  0.361636 -0.454412 -0.816048\n",
      "21 -0.225776  1.538037  2.086484  0.548447\n",
      "22  0.067528 -0.035826  1.099230  1.135056\n",
      "23 -1.424748  1.564644 -0.284853 -1.849496\n",
      "25  0.110923  0.821903  2.043748  1.221845\n",
      "26 -1.150994  0.087047 -1.214940 -1.301987\n",
      "27  0.375698 -0.299007  1.452389  1.751396\n",
      "28 -0.600639  0.091761 -0.109517 -0.201277\n",
      "29 -0.291694 -1.987569 -1.570956  0.416613\n",
      "30 -0.601707 -0.219672 -0.423085 -0.203413\n",
      "32 -0.013497  1.477894  2.450900  0.973006\n",
      "34  0.822545 -0.808494  1.836596  2.645090\n",
      "36  0.208864  0.915402  2.333129  1.417727\n",
      "39  0.196861  0.513267  1.906990  1.393722\n",
      "40  0.738467  0.097078  2.574011  2.476933\n",
      "41  0.171368  0.968645  2.311382  1.342737\n",
      "42 -0.115648 -0.702053  0.066650  0.768703\n",
      "43 -0.301104 -0.327662  0.070130  0.397793\n",
      "46 -0.460639  0.296120  0.374843  0.078722\n",
      "48  0.343618  0.005113  1.692350  1.687237\n",
      "33\n"
     ]
    }
   ],
   "source": [
    "# Note: abs(...) is the absolute value function\n",
    "# Write your own code \n",
    "\n",
    "ybar = dataset[\"y\"].mean()\n",
    "stdv_sample = dataset[\"y\"].std()\n",
    "subset = dataset.query(\"abs(y-@ybar)<=@stdv_sample\")\n",
    "print(subset)\n",
    "print(len(subset))\n"
   ]
  },
  {
   "attachments": {},
   "cell_type": "markdown",
   "metadata": {},
   "source": [
    "# <span style=\"color:darkblue\"> II. Estimate the best fit line</span>\n"
   ]
  },
  {
   "attachments": {},
   "cell_type": "markdown",
   "metadata": {},
   "source": [
    "<font size = \"5\">\n",
    "\n",
    "We have data on $(y,x)$ but we don't know $(b_0,b_1, e)$"
   ]
  },
  {
   "attachments": {},
   "cell_type": "markdown",
   "metadata": {},
   "source": [
    "<font size = \"5\">\n",
    "\n",
    "Let's fit an OLS model\n",
    "\n",
    "- It's a statistical approach to get $(b_0,b_1)$\n",
    "- No need to know how it works but why we want it"
   ]
  },
  {
   "cell_type": "code",
   "execution_count": 31,
   "metadata": {},
   "outputs": [
    {
     "data": {
      "text/plain": [
       "<statsmodels.regression.linear_model.RegressionResultsWrapper at 0x13576e610>"
      ]
     },
     "execution_count": 31,
     "metadata": {},
     "output_type": "execute_result"
    }
   ],
   "source": [
    "#------------------------------------------------------------------------------#\n",
    "# We use the subfunction \"ols()\" in the library \"smf\"\n",
    "#---- (i) The first argument is a string called \"formula\" with the format \n",
    "#-------- \"outcome ~ indepdent_vars\"\n",
    "#----(ii) the second argument is the dataset\n",
    "# The second line fits the model with standard errors \"cov\". In this case we \n",
    "# use \"robust\" standard errors (HC1)\n",
    "#-------------------------------------------------------------------------------#\n",
    "\n",
    "model = smf.ols(formula = 'y ~  x', data = dataset)\n",
    "results = model.fit()\n",
    "\n",
    "results\n",
    "\n",
    "# Can also run as one line\n",
    "# results = smf.ols(formula = 'y ~ x',data = dataset).fit(cov = \"HC1\")\n"
   ]
  },
  {
   "attachments": {},
   "cell_type": "markdown",
   "metadata": {},
   "source": [
    "<font size = \"5\">\n",
    "\n",
    "Compute the estimated best fit line"
   ]
  },
  {
   "cell_type": "code",
   "execution_count": 32,
   "metadata": {},
   "outputs": [
    {
     "name": "stdout",
     "output_type": "stream",
     "text": [
      "Intercept    1.041022\n",
      "x            2.103076\n",
      "dtype: float64\n"
     ]
    }
   ],
   "source": [
    "# We will use \".params\" to get the attribute \"parameters from the results\"\n",
    "\n",
    "b_list = results.params\n",
    "print(b_list)\n",
    "\n",
    "# We can then compute the \"estimated\" best fit lines\n",
    "# by extracting the intercept and slop from \"b_list\"\n",
    "\n",
    "dataset[\"p_estimated\"] = b_list[0] + b_list[1]  * dataset[\"x\"]\n",
    "\n",
    "# Note: The estimators for \"b0\" and \"b1\" are close to \n",
    "# the values we used to generate the data\n"
   ]
  },
  {
   "attachments": {},
   "cell_type": "markdown",
   "metadata": {},
   "source": [
    "<font size = \"5\">\n",
    "\n",
    "Plot the best fit line"
   ]
  },
  {
   "cell_type": "code",
   "execution_count": 33,
   "metadata": {},
   "outputs": [
    {
     "data": {
      "image/png": "[encoded data removed]",
      "text/plain": [
       "<Figure size 640x480 with 1 Axes>"
      ]
     },
     "metadata": {},
     "output_type": "display_data"
    }
   ],
   "source": [
    "# Use scatter twice, with different \"y\" inputs\n",
    "# THe \"legend\" command creates a box on with the color labels\n",
    "\n",
    "plt.scatter(x = dataset[\"x\"],y = dataset[\"y\"])\n",
    "plt.plot(dataset[\"x\"],dataset[\"p_estimated\"], color = 'green')\n",
    "\n",
    "plt.legend(labels = [\"Data points\",\"Estimated Predicted Model\"])\n",
    "plt.show()\n"
   ]
  },
  {
   "attachments": {},
   "cell_type": "markdown",
   "metadata": {},
   "source": [
    "<font size = \"5\">\n",
    "\n",
    "Try it yourself!\n",
    "- How good is the estimated fit?\n",
    "- Create two overlapping lineplots\n",
    "- $(p \\text{ }$ vs $\\text{ } x)$ and $(p_{estimated} \\text{ }$ vs $\\text{ } x)$\n",
    "- Create a legend to label each plot"
   ]
  },
  {
   "cell_type": "code",
   "execution_count": 14,
   "metadata": {},
   "outputs": [],
   "source": [
    "# Write your own code\n",
    "\n"
   ]
  },
  {
   "attachments": {},
   "cell_type": "markdown",
   "metadata": {},
   "source": [
    "<font size = \"5\">\n",
    "\n",
    "Try it youself\n",
    "\n",
    "- Compute a column with the formula\n",
    "\n",
    "$\\quad$ ``` sample_error = y - p_estimated```\n",
    "\n",
    "- Create a lambda function <br>\n",
    "\n",
    "$\\quad$ ``` fn_positive_error = lambda error: error >= 0  ```\n",
    "\n",
    "- Compute a column for whether the error is positive <br>\n",
    "using ``` .apply()```\n",
    "\n"
   ]
  },
  {
   "cell_type": "code",
   "execution_count": 15,
   "metadata": {},
   "outputs": [],
   "source": [
    "# Write your own code\n"
   ]
  },
  {
   "attachments": {},
   "cell_type": "markdown",
   "metadata": {},
   "source": [
    "<font size = \"5\">\n",
    "\n",
    "Try it yourself\n",
    "\n",
    "- Compute a new column <br>\n",
    "\n",
    "```error_sqr = sample_error ** 2```\n",
    "\n",
    "- Calculate the mean of ```error_sqr```"
   ]
  },
  {
   "cell_type": "code",
   "execution_count": 16,
   "metadata": {},
   "outputs": [],
   "source": [
    "# Write your own code\n"
   ]
  },
  {
   "cell_type": "code",
   "execution_count": 41,
   "metadata": {},
   "outputs": [
    {
     "name": "stdout",
     "output_type": "stream",
     "text": [
      "181.5508387723178\n",
      "              Known As           Full Name  Overall  Potential  \\\n",
      "1           K. Benzema       Karim Benzema       91         91   \n",
      "2       R. Lewandowski  Robert Lewandowski       91         91   \n",
      "4            K. Mbappé       Kylian Mbappé       91         95   \n",
      "6          T. Courtois    Thibaut Courtois       90         91   \n",
      "7             M. Neuer        Manuel Neuer       90         90   \n",
      "...                ...                 ...      ...        ...   \n",
      "18520          N. Deka         Nikhil Deka       48         61   \n",
      "18521         V. Yadav        Vishal Yadav       48         62   \n",
      "18524       A. Brînzea      Andreș Brînzea       48         72   \n",
      "18525  J. Russell-Rowe  Jacen Russell-Rowe       48         65   \n",
      "18528        Zhang Yue           Yue Zhang       48         56   \n",
      "\n",
      "       Value(in Euro) Positions Played Best Position Nationality  \\\n",
      "1            64000000            CF,ST            CF      France   \n",
      "2            84000000               ST            ST      Poland   \n",
      "4           190500000            ST,LW            ST      France   \n",
      "6            90000000               GK            GK     Belgium   \n",
      "7            13500000               GK            GK     Germany   \n",
      "...               ...              ...           ...         ...   \n",
      "18520          100000               GK            GK       India   \n",
      "18521          100000               GK            GK       India   \n",
      "18524          130000               GK            GK     Romania   \n",
      "18525          120000               ST           CAM      Canada   \n",
      "18528          110000               RM            LM    China PR   \n",
      "\n",
      "                                             Image Link  Age  ...  \\\n",
      "1      https://cdn.sofifa.net/players/165/153/23_60.png   34  ...   \n",
      "2      https://cdn.sofifa.net/players/188/545/23_60.png   33  ...   \n",
      "4      https://cdn.sofifa.net/players/231/747/23_60.png   23  ...   \n",
      "6      https://cdn.sofifa.net/players/192/119/23_60.png   30  ...   \n",
      "7      https://cdn.sofifa.net/players/167/495/23_60.png   36  ...   \n",
      "...                                                 ...  ...  ...   \n",
      "18520  https://cdn.sofifa.net/players/261/423/23_60.png   19  ...   \n",
      "18521  https://cdn.sofifa.net/players/259/488/23_60.png   20  ...   \n",
      "18524  https://cdn.sofifa.net/players/271/179/23_60.png   16  ...   \n",
      "18525  https://cdn.sofifa.net/players/269/923/23_60.png   19  ...   \n",
      "18528  https://cdn.sofifa.net/players/268/922/23_60.png   22  ...   \n",
      "\n",
      "       Weak Foot Rating  Skill Moves  International Reputation  \\\n",
      "1                     4            4                         4   \n",
      "2                     4            4                         5   \n",
      "4                     4            5                         4   \n",
      "6                     3            1                         4   \n",
      "7                     4            1                         5   \n",
      "...                 ...          ...                       ...   \n",
      "18520                 3            1                         1   \n",
      "18521                 3            1                         1   \n",
      "18524                 2            1                         1   \n",
      "18525                 3            2                         1   \n",
      "18528                 2            2                         1   \n",
      "\n",
      "       National Team Name             National Team Image Link  \\\n",
      "1                  France  https://cdn.sofifa.net/flags/fr.png   \n",
      "2                  Poland  https://cdn.sofifa.net/flags/pl.png   \n",
      "4                  France  https://cdn.sofifa.net/flags/fr.png   \n",
      "6                 Belgium  https://cdn.sofifa.net/flags/be.png   \n",
      "7                 Germany  https://cdn.sofifa.net/flags/de.png   \n",
      "...                   ...                                  ...   \n",
      "18520                   -                                    -   \n",
      "18521                   -                                    -   \n",
      "18524                   -  https://cdn.sofifa.net/flags/ro.png   \n",
      "18525                   -  https://cdn.sofifa.net/flags/ca.png   \n",
      "18528                   -                                    -   \n",
      "\n",
      "       National Team Position  National Team Jersey Number  \\\n",
      "1                          ST                           19   \n",
      "2                          ST                            9   \n",
      "4                          ST                           10   \n",
      "6                          GK                            1   \n",
      "7                          GK                            1   \n",
      "...                       ...                          ...   \n",
      "18520                       -                            -   \n",
      "18521                       -                            -   \n",
      "18524                       -                            -   \n",
      "18525                       -                            -   \n",
      "18528                       -                            -   \n",
      "\n",
      "      Attacking Work Rate Defensive Work Rate         joined_after2016  \n",
      "1                  Medium              Medium       Joined before 2016  \n",
      "2                    High              Medium  Joined on 2016 or after  \n",
      "4                    High                 Low  Joined on 2016 or after  \n",
      "6                  Medium              Medium  Joined on 2016 or after  \n",
      "7                  Medium              Medium       Joined before 2016  \n",
      "...                   ...                 ...                      ...  \n",
      "18520              Medium              Medium  Joined on 2016 or after  \n",
      "18521              Medium              Medium  Joined on 2016 or after  \n",
      "18524              Medium              Medium  Joined on 2016 or after  \n",
      "18525              Medium              Medium  Joined on 2016 or after  \n",
      "18528              Medium              Medium  Joined on 2016 or after  \n",
      "\n",
      "[9352 rows x 33 columns]\n"
     ]
    },
    {
     "data": {
      "text/html": [
       "<div>\n",
       "<style scoped>\n",
       "    .dataframe tbody tr th:only-of-type {\n",
       "        vertical-align: middle;\n",
       "    }\n",
       "\n",
       "    .dataframe tbody tr th {\n",
       "        vertical-align: top;\n",
       "    }\n",
       "\n",
       "    .dataframe thead th {\n",
       "        text-align: right;\n",
       "    }\n",
       "</style>\n",
       "<table border=\"1\" class=\"dataframe\">\n",
       "  <thead>\n",
       "    <tr style=\"text-align: right;\">\n",
       "      <th></th>\n",
       "      <th>Known As</th>\n",
       "      <th>Full Name</th>\n",
       "      <th>Overall</th>\n",
       "      <th>Potential</th>\n",
       "      <th>Value(in Euro)</th>\n",
       "      <th>Positions Played</th>\n",
       "      <th>Best Position</th>\n",
       "      <th>Nationality</th>\n",
       "      <th>Image Link</th>\n",
       "      <th>Age</th>\n",
       "      <th>...</th>\n",
       "      <th>Weak Foot Rating</th>\n",
       "      <th>Skill Moves</th>\n",
       "      <th>International Reputation</th>\n",
       "      <th>National Team Name</th>\n",
       "      <th>National Team Image Link</th>\n",
       "      <th>National Team Position</th>\n",
       "      <th>National Team Jersey Number</th>\n",
       "      <th>Attacking Work Rate</th>\n",
       "      <th>Defensive Work Rate</th>\n",
       "      <th>joined_after2016</th>\n",
       "    </tr>\n",
       "  </thead>\n",
       "  <tbody>\n",
       "    <tr>\n",
       "      <th>4</th>\n",
       "      <td>K. Mbappé</td>\n",
       "      <td>Kylian Mbappé</td>\n",
       "      <td>91</td>\n",
       "      <td>95</td>\n",
       "      <td>190500000</td>\n",
       "      <td>ST,LW</td>\n",
       "      <td>ST</td>\n",
       "      <td>France</td>\n",
       "      <td>https://cdn.sofifa.net/players/231/747/23_60.png</td>\n",
       "      <td>23</td>\n",
       "      <td>...</td>\n",
       "      <td>4</td>\n",
       "      <td>5</td>\n",
       "      <td>4</td>\n",
       "      <td>France</td>\n",
       "      <td>https://cdn.sofifa.net/flags/fr.png</td>\n",
       "      <td>ST</td>\n",
       "      <td>10</td>\n",
       "      <td>High</td>\n",
       "      <td>Low</td>\n",
       "      <td>Joined on 2016 or after</td>\n",
       "    </tr>\n",
       "    <tr>\n",
       "      <th>21</th>\n",
       "      <td>E. Haaland</td>\n",
       "      <td>Erling Haaland</td>\n",
       "      <td>88</td>\n",
       "      <td>94</td>\n",
       "      <td>148000000</td>\n",
       "      <td>ST</td>\n",
       "      <td>ST</td>\n",
       "      <td>Norway</td>\n",
       "      <td>https://cdn.sofifa.net/players/239/085/23_60.png</td>\n",
       "      <td>21</td>\n",
       "      <td>...</td>\n",
       "      <td>3</td>\n",
       "      <td>3</td>\n",
       "      <td>4</td>\n",
       "      <td>Norway</td>\n",
       "      <td>https://cdn.sofifa.net/flags/no.png</td>\n",
       "      <td>ST</td>\n",
       "      <td>9</td>\n",
       "      <td>High</td>\n",
       "      <td>Medium</td>\n",
       "      <td>Joined on 2016 or after</td>\n",
       "    </tr>\n",
       "    <tr>\n",
       "      <th>42</th>\n",
       "      <td>F. de Jong</td>\n",
       "      <td>Frenkie de Jong</td>\n",
       "      <td>87</td>\n",
       "      <td>92</td>\n",
       "      <td>116500000</td>\n",
       "      <td>CM</td>\n",
       "      <td>CM</td>\n",
       "      <td>Netherlands</td>\n",
       "      <td>https://cdn.sofifa.net/players/228/702/23_60.png</td>\n",
       "      <td>25</td>\n",
       "      <td>...</td>\n",
       "      <td>3</td>\n",
       "      <td>4</td>\n",
       "      <td>3</td>\n",
       "      <td>Netherlands</td>\n",
       "      <td>https://cdn.sofifa.net/flags/nl.png</td>\n",
       "      <td>CDM</td>\n",
       "      <td>21</td>\n",
       "      <td>High</td>\n",
       "      <td>Medium</td>\n",
       "      <td>Joined on 2016 or after</td>\n",
       "    </tr>\n",
       "    <tr>\n",
       "      <th>82</th>\n",
       "      <td>Pedri</td>\n",
       "      <td>Pedro González López</td>\n",
       "      <td>85</td>\n",
       "      <td>93</td>\n",
       "      <td>116000000</td>\n",
       "      <td>CM</td>\n",
       "      <td>CM</td>\n",
       "      <td>Spain</td>\n",
       "      <td>https://cdn.sofifa.net/players/251/854/23_60.png</td>\n",
       "      <td>19</td>\n",
       "      <td>...</td>\n",
       "      <td>4</td>\n",
       "      <td>4</td>\n",
       "      <td>2</td>\n",
       "      <td>Spain</td>\n",
       "      <td>https://cdn.sofifa.net/flags/es.png</td>\n",
       "      <td>CM</td>\n",
       "      <td>10</td>\n",
       "      <td>High</td>\n",
       "      <td>High</td>\n",
       "      <td>Joined on 2016 or after</td>\n",
       "    </tr>\n",
       "    <tr>\n",
       "      <th>5</th>\n",
       "      <td>M. Salah</td>\n",
       "      <td>Mohamed Salah</td>\n",
       "      <td>90</td>\n",
       "      <td>90</td>\n",
       "      <td>115500000</td>\n",
       "      <td>RW</td>\n",
       "      <td>RW</td>\n",
       "      <td>Egypt</td>\n",
       "      <td>https://cdn.sofifa.net/players/209/331/23_60.png</td>\n",
       "      <td>30</td>\n",
       "      <td>...</td>\n",
       "      <td>3</td>\n",
       "      <td>4</td>\n",
       "      <td>4</td>\n",
       "      <td>-</td>\n",
       "      <td>-</td>\n",
       "      <td>-</td>\n",
       "      <td>-</td>\n",
       "      <td>High</td>\n",
       "      <td>Medium</td>\n",
       "      <td>Joined on 2016 or after</td>\n",
       "    </tr>\n",
       "  </tbody>\n",
       "</table>\n",
       "<p>5 rows × 33 columns</p>\n",
       "</div>"
      ],
      "text/plain": [
       "      Known As             Full Name  Overall  Potential  Value(in Euro)  \\\n",
       "4    K. Mbappé         Kylian Mbappé       91         95       190500000   \n",
       "21  E. Haaland        Erling Haaland       88         94       148000000   \n",
       "42  F. de Jong       Frenkie de Jong       87         92       116500000   \n",
       "82       Pedri  Pedro González López       85         93       116000000   \n",
       "5     M. Salah         Mohamed Salah       90         90       115500000   \n",
       "\n",
       "   Positions Played Best Position  Nationality  \\\n",
       "4             ST,LW            ST       France   \n",
       "21               ST            ST       Norway   \n",
       "42               CM            CM  Netherlands   \n",
       "82               CM            CM        Spain   \n",
       "5                RW            RW        Egypt   \n",
       "\n",
       "                                          Image Link  Age  ...  \\\n",
       "4   https://cdn.sofifa.net/players/231/747/23_60.png   23  ...   \n",
       "21  https://cdn.sofifa.net/players/239/085/23_60.png   21  ...   \n",
       "42  https://cdn.sofifa.net/players/228/702/23_60.png   25  ...   \n",
       "82  https://cdn.sofifa.net/players/251/854/23_60.png   19  ...   \n",
       "5   https://cdn.sofifa.net/players/209/331/23_60.png   30  ...   \n",
       "\n",
       "    Weak Foot Rating  Skill Moves  International Reputation  \\\n",
       "4                  4            5                         4   \n",
       "21                 3            3                         4   \n",
       "42                 3            4                         3   \n",
       "82                 4            4                         2   \n",
       "5                  3            4                         4   \n",
       "\n",
       "    National Team Name             National Team Image Link  \\\n",
       "4               France  https://cdn.sofifa.net/flags/fr.png   \n",
       "21              Norway  https://cdn.sofifa.net/flags/no.png   \n",
       "42         Netherlands  https://cdn.sofifa.net/flags/nl.png   \n",
       "82               Spain  https://cdn.sofifa.net/flags/es.png   \n",
       "5                    -                                    -   \n",
       "\n",
       "    National Team Position  National Team Jersey Number Attacking Work Rate  \\\n",
       "4                       ST                           10                High   \n",
       "21                      ST                            9                High   \n",
       "42                     CDM                           21                High   \n",
       "82                      CM                           10                High   \n",
       "5                        -                            -                High   \n",
       "\n",
       "   Defensive Work Rate         joined_after2016  \n",
       "4                  Low  Joined on 2016 or after  \n",
       "21              Medium  Joined on 2016 or after  \n",
       "42              Medium  Joined on 2016 or after  \n",
       "82                High  Joined on 2016 or after  \n",
       "5               Medium  Joined on 2016 or after  \n",
       "\n",
       "[5 rows x 33 columns]"
      ]
     },
     "metadata": {},
     "output_type": "display_data"
    },
    {
     "name": "stdout",
     "output_type": "stream",
     "text": [
      "537721853\n",
      "696928.52\n",
      "353393885\n"
     ]
    },
    {
     "data": {
      "image/png": "[encoded data removed]",
      "text/plain": [
       "<Figure size 640x480 with 1 Axes>"
      ]
     },
     "metadata": {},
     "output_type": "display_data"
    }
   ],
   "source": [
    "fifa_data = pd.read_csv('/Users/jeffechols8/Downloads/assignment6/Data/fifa23_players_basic.csv')\n",
    "\n",
    "def fn_yearjoined(year):\n",
    "    if (year < 2016):\n",
    "        status = \"Joined before 2016\"\n",
    "    elif (year >= 2016):\n",
    "        status = \"Joined on 2016 or after\"\n",
    "    return status\n",
    "\n",
    "fifa_data[\"joined_after2016\"] = fifa_data[\"Joined On\"].apply(fn_yearjoined)\n",
    "\n",
    "mean_height = fifa_data[\"Height(in cm)\"].mean()\n",
    "above_mean_height = fifa_data.query(\"`Height(in cm)` > @mean_height\")\n",
    "print(mean_height)\n",
    "print(above_mean_height)\n",
    "\n",
    "highest_value = fifa_data.sort_values(by= \"Value(in Euro)\", ascending = False)\n",
    "display(highest_value.iloc[0:5,:])\n",
    "\n",
    "\n",
    "def fn_rss(y,x,b0,b1):\n",
    "    e2 = (y-b0-b1*x)**2\n",
    "    return (e2).sum()\n",
    "\n",
    "\n",
    "y = fifa_data[\"Overall\"] \n",
    "x = fifa_data[\"Age\"] \n",
    "\n",
    "print(fn_rss(y,x,50,-6))\n",
    "print(fn_rss(y,x,50,0.6))\n",
    "print(fn_rss(y,x,50,6))\n",
    "\n",
    "list_status = [1,2]\n",
    "list_prob = [0.5,0.5]\n",
    "n = len(fifa_data)\n",
    "\n",
    "fifa_data[\"status\"] = np.random.choice(list_status, size = n, p=list_prob)\n",
    "data1 = fifa_data.query('status== \"1\"')\n",
    "data2 = fifa_data.query('status== \"2\"')\n",
    "\n",
    "unique_status = pd.unique(fifa_data[\"status\"])\n",
    "\n",
    "for category in unique_status:\n",
    "    dataframe = fifa_data.query(\"status == @category\")\n",
    "    plt.hist(dataframe[\"Potential\"], alpha = 0.5)\n",
    "\n",
    "plt.xlabel(\"Potential\")\n",
    "plt.ylabel(\"Frequency\")\n",
    "plt.legend(labels = unique_status,\n",
    "           title  = \"Status\")\n",
    "plt.title(\"Potential for Data 1 and Data 2\")\n",
    "plt.show()\n"
   ]
  }
 ],
 "metadata": {
  "kernelspec": {
   "display_name": "base",
   "language": "python",
   "name": "python3"
  },
  "language_info": {
   "codemirror_mode": {
    "name": "ipython",
    "version": 3
   },
   "file_extension": ".py",
   "mimetype": "text/x-python",
   "name": "python",
   "nbconvert_exporter": "python",
   "pygments_lexer": "ipython3",
   "version": "3.11.5"
  },
  "orig_nbformat": 4,
  "vscode": {
   "interpreter": {
    "hash": "45fc1f684f6f416f40889115beff3ddf69879b64cf4bfee48cb72a61e9d15d1a"
   }
  }
 },
 "nbformat": 4,
 "nbformat_minor": 2
}
